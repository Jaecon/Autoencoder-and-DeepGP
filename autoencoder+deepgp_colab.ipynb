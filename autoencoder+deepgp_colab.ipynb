{
  "nbformat": 4,
  "nbformat_minor": 0,
  "metadata": {
    "kernelspec": {
      "display_name": "Python 3",
      "language": "python",
      "name": "python3"
    },
    "language_info": {
      "codemirror_mode": {
        "name": "ipython",
        "version": 3
      },
      "file_extension": ".py",
      "mimetype": "text/x-python",
      "name": "python",
      "nbconvert_exporter": "python",
      "pygments_lexer": "ipython3",
      "version": "3.7.9"
    },
    "papermill": {
      "default_parameters": {},
      "duration": 730.921854,
      "end_time": "2021-02-22T23:27:32.071983",
      "environment_variables": {},
      "exception": null,
      "input_path": "__notebook__.ipynb",
      "output_path": "__notebook__.ipynb",
      "parameters": {},
      "start_time": "2021-02-22T23:15:21.150129",
      "version": "2.2.2"
    },
    "widgets": {
      "application/vnd.jupyter.widget-state+json": {
        "b5eb49ed328943d7ba0734f6176bd82a": {
          "model_module": "@jupyter-widgets/controls",
          "model_name": "HBoxModel",
          "state": {
            "_view_name": "HBoxView",
            "_dom_classes": [],
            "_model_name": "HBoxModel",
            "_view_module": "@jupyter-widgets/controls",
            "_model_module_version": "1.5.0",
            "_view_count": null,
            "_view_module_version": "1.5.0",
            "box_style": "",
            "layout": "IPY_MODEL_3be79ec708524abc89c3e349b4c1a4a1",
            "_model_module": "@jupyter-widgets/controls",
            "children": [
              "IPY_MODEL_e4e76854433b425d8283bc92e0663272",
              "IPY_MODEL_b71c7f1cd4364fc3917aa15bd977a34b"
            ]
          }
        },
        "3be79ec708524abc89c3e349b4c1a4a1": {
          "model_module": "@jupyter-widgets/base",
          "model_name": "LayoutModel",
          "state": {
            "_view_name": "LayoutView",
            "grid_template_rows": null,
            "right": null,
            "justify_content": null,
            "_view_module": "@jupyter-widgets/base",
            "overflow": null,
            "_model_module_version": "1.2.0",
            "_view_count": null,
            "flex_flow": null,
            "width": null,
            "min_width": null,
            "border": null,
            "align_items": null,
            "bottom": null,
            "_model_module": "@jupyter-widgets/base",
            "top": null,
            "grid_column": null,
            "overflow_y": null,
            "overflow_x": null,
            "grid_auto_flow": null,
            "grid_area": null,
            "grid_template_columns": null,
            "flex": null,
            "_model_name": "LayoutModel",
            "justify_items": null,
            "grid_row": null,
            "max_height": null,
            "align_content": null,
            "visibility": null,
            "align_self": null,
            "height": null,
            "min_height": null,
            "padding": null,
            "grid_auto_rows": null,
            "grid_gap": null,
            "max_width": null,
            "order": null,
            "_view_module_version": "1.2.0",
            "grid_template_areas": null,
            "object_position": null,
            "object_fit": null,
            "grid_auto_columns": null,
            "margin": null,
            "display": null,
            "left": null
          }
        },
        "e4e76854433b425d8283bc92e0663272": {
          "model_module": "@jupyter-widgets/controls",
          "model_name": "FloatProgressModel",
          "state": {
            "_view_name": "ProgressView",
            "style": "IPY_MODEL_7baf77f2d3c1475685ade9d4416669a4",
            "_dom_classes": [],
            "description": "100%",
            "_model_name": "FloatProgressModel",
            "bar_style": "success",
            "max": 2175,
            "_view_module": "@jupyter-widgets/controls",
            "_model_module_version": "1.5.0",
            "value": 2175,
            "_view_count": null,
            "_view_module_version": "1.5.0",
            "orientation": "horizontal",
            "min": 0,
            "description_tooltip": null,
            "_model_module": "@jupyter-widgets/controls",
            "layout": "IPY_MODEL_7e6860b445914a09979369c5c6efdf51"
          }
        },
        "b71c7f1cd4364fc3917aa15bd977a34b": {
          "model_module": "@jupyter-widgets/controls",
          "model_name": "HTMLModel",
          "state": {
            "_view_name": "HTMLView",
            "style": "IPY_MODEL_618d12fdb2d74318bea8d81c2ab682e1",
            "_dom_classes": [],
            "description": "",
            "_model_name": "HTMLModel",
            "placeholder": "​",
            "_view_module": "@jupyter-widgets/controls",
            "_model_module_version": "1.5.0",
            "value": " 2175/2175 [02:49&lt;00:00, 12.84it/s]",
            "_view_count": null,
            "_view_module_version": "1.5.0",
            "description_tooltip": null,
            "_model_module": "@jupyter-widgets/controls",
            "layout": "IPY_MODEL_dd3c23b64b144f49a473a0ca0752fc04"
          }
        },
        "7baf77f2d3c1475685ade9d4416669a4": {
          "model_module": "@jupyter-widgets/controls",
          "model_name": "ProgressStyleModel",
          "state": {
            "_view_name": "StyleView",
            "_model_name": "ProgressStyleModel",
            "description_width": "initial",
            "_view_module": "@jupyter-widgets/base",
            "_model_module_version": "1.5.0",
            "_view_count": null,
            "_view_module_version": "1.2.0",
            "bar_color": null,
            "_model_module": "@jupyter-widgets/controls"
          }
        },
        "7e6860b445914a09979369c5c6efdf51": {
          "model_module": "@jupyter-widgets/base",
          "model_name": "LayoutModel",
          "state": {
            "_view_name": "LayoutView",
            "grid_template_rows": null,
            "right": null,
            "justify_content": null,
            "_view_module": "@jupyter-widgets/base",
            "overflow": null,
            "_model_module_version": "1.2.0",
            "_view_count": null,
            "flex_flow": null,
            "width": null,
            "min_width": null,
            "border": null,
            "align_items": null,
            "bottom": null,
            "_model_module": "@jupyter-widgets/base",
            "top": null,
            "grid_column": null,
            "overflow_y": null,
            "overflow_x": null,
            "grid_auto_flow": null,
            "grid_area": null,
            "grid_template_columns": null,
            "flex": null,
            "_model_name": "LayoutModel",
            "justify_items": null,
            "grid_row": null,
            "max_height": null,
            "align_content": null,
            "visibility": null,
            "align_self": null,
            "height": null,
            "min_height": null,
            "padding": null,
            "grid_auto_rows": null,
            "grid_gap": null,
            "max_width": null,
            "order": null,
            "_view_module_version": "1.2.0",
            "grid_template_areas": null,
            "object_position": null,
            "object_fit": null,
            "grid_auto_columns": null,
            "margin": null,
            "display": null,
            "left": null
          }
        },
        "618d12fdb2d74318bea8d81c2ab682e1": {
          "model_module": "@jupyter-widgets/controls",
          "model_name": "DescriptionStyleModel",
          "state": {
            "_view_name": "StyleView",
            "_model_name": "DescriptionStyleModel",
            "description_width": "",
            "_view_module": "@jupyter-widgets/base",
            "_model_module_version": "1.5.0",
            "_view_count": null,
            "_view_module_version": "1.2.0",
            "_model_module": "@jupyter-widgets/controls"
          }
        },
        "dd3c23b64b144f49a473a0ca0752fc04": {
          "model_module": "@jupyter-widgets/base",
          "model_name": "LayoutModel",
          "state": {
            "_view_name": "LayoutView",
            "grid_template_rows": null,
            "right": null,
            "justify_content": null,
            "_view_module": "@jupyter-widgets/base",
            "overflow": null,
            "_model_module_version": "1.2.0",
            "_view_count": null,
            "flex_flow": null,
            "width": null,
            "min_width": null,
            "border": null,
            "align_items": null,
            "bottom": null,
            "_model_module": "@jupyter-widgets/base",
            "top": null,
            "grid_column": null,
            "overflow_y": null,
            "overflow_x": null,
            "grid_auto_flow": null,
            "grid_area": null,
            "grid_template_columns": null,
            "flex": null,
            "_model_name": "LayoutModel",
            "justify_items": null,
            "grid_row": null,
            "max_height": null,
            "align_content": null,
            "visibility": null,
            "align_self": null,
            "height": null,
            "min_height": null,
            "padding": null,
            "grid_auto_rows": null,
            "grid_gap": null,
            "max_width": null,
            "order": null,
            "_view_module_version": "1.2.0",
            "grid_template_areas": null,
            "object_position": null,
            "object_fit": null,
            "grid_auto_columns": null,
            "margin": null,
            "display": null,
            "left": null
          }
        }
      }
    },
    "colab": {
      "name": "autoencoder+deepgp_colab.ipynb",
      "provenance": [],
      "collapsed_sections": [],
      "toc_visible": true,
      "machine_shape": "hm"
    },
    "accelerator": "GPU"
  },
  "cells": [
    {
      "cell_type": "code",
      "metadata": {
        "execution": {
          "iopub.execute_input": "2021-02-22T23:15:26.751653Z",
          "iopub.status.busy": "2021-02-22T23:15:26.750644Z",
          "iopub.status.idle": "2021-02-22T23:15:55.876730Z",
          "shell.execute_reply": "2021-02-22T23:15:55.875895Z"
        },
        "id": "-1hGtUABMpap",
        "papermill": {
          "duration": 29.144688,
          "end_time": "2021-02-22T23:15:55.876968",
          "exception": false,
          "start_time": "2021-02-22T23:15:26.732280",
          "status": "completed"
        },
        "tags": [],
        "colab": {
          "base_uri": "https://localhost:8080/"
        },
        "outputId": "f8653e1f-1ea6-4d14-9d63-985dfbbf2221"
      },
      "source": [
        "!pip install gpytorch -q\r\n",
        "!pip install datatable -q"
      ],
      "execution_count": null,
      "outputs": [
        {
          "output_type": "stream",
          "text": [
            "\u001b[?25l\r\u001b[K     |█▏                              | 10kB 22.5MB/s eta 0:00:01\r\u001b[K     |██▎                             | 20kB 28.0MB/s eta 0:00:01\r\u001b[K     |███▍                            | 30kB 31.4MB/s eta 0:00:01\r\u001b[K     |████▋                           | 40kB 21.2MB/s eta 0:00:01\r\u001b[K     |█████▊                          | 51kB 15.9MB/s eta 0:00:01\r\u001b[K     |██████▉                         | 61kB 17.5MB/s eta 0:00:01\r\u001b[K     |████████                        | 71kB 15.6MB/s eta 0:00:01\r\u001b[K     |█████████▏                      | 81kB 14.0MB/s eta 0:00:01\r\u001b[K     |██████████▎                     | 92kB 14.1MB/s eta 0:00:01\r\u001b[K     |███████████▌                    | 102kB 13.8MB/s eta 0:00:01\r\u001b[K     |████████████▋                   | 112kB 13.8MB/s eta 0:00:01\r\u001b[K     |█████████████▊                  | 122kB 13.8MB/s eta 0:00:01\r\u001b[K     |██████████████▉                 | 133kB 13.8MB/s eta 0:00:01\r\u001b[K     |████████████████                | 143kB 13.8MB/s eta 0:00:01\r\u001b[K     |█████████████████▏              | 153kB 13.8MB/s eta 0:00:01\r\u001b[K     |██████████████████▎             | 163kB 13.8MB/s eta 0:00:01\r\u001b[K     |███████████████████▌            | 174kB 13.8MB/s eta 0:00:01\r\u001b[K     |████████████████████▋           | 184kB 13.8MB/s eta 0:00:01\r\u001b[K     |█████████████████████▊          | 194kB 13.8MB/s eta 0:00:01\r\u001b[K     |███████████████████████         | 204kB 13.8MB/s eta 0:00:01\r\u001b[K     |████████████████████████        | 215kB 13.8MB/s eta 0:00:01\r\u001b[K     |█████████████████████████▏      | 225kB 13.8MB/s eta 0:00:01\r\u001b[K     |██████████████████████████▎     | 235kB 13.8MB/s eta 0:00:01\r\u001b[K     |███████████████████████████▌    | 245kB 13.8MB/s eta 0:00:01\r\u001b[K     |████████████████████████████▋   | 256kB 13.8MB/s eta 0:00:01\r\u001b[K     |█████████████████████████████▊  | 266kB 13.8MB/s eta 0:00:01\r\u001b[K     |███████████████████████████████ | 276kB 13.8MB/s eta 0:00:01\r\u001b[K     |████████████████████████████████| 286kB 13.8MB/s \n",
            "\u001b[?25h  Building wheel for gpytorch (setup.py) ... \u001b[?25l\u001b[?25hdone\n",
            "\u001b[K     |████████████████████████████████| 83.9MB 65kB/s \n",
            "\u001b[?25h"
          ],
          "name": "stdout"
        }
      ]
    },
    {
      "cell_type": "code",
      "metadata": {
        "execution": {
          "iopub.execute_input": "2021-02-22T23:15:55.919514Z",
          "iopub.status.busy": "2021-02-22T23:15:55.916855Z",
          "iopub.status.idle": "2021-02-22T23:15:57.482796Z",
          "shell.execute_reply": "2021-02-22T23:15:57.482243Z"
        },
        "id": "5IdQtcstMpar",
        "papermill": {
          "duration": 1.590915,
          "end_time": "2021-02-22T23:15:57.482944",
          "exception": false,
          "start_time": "2021-02-22T23:15:55.892029",
          "status": "completed"
        },
        "tags": [],
        "colab": {
          "base_uri": "https://localhost:8080/"
        },
        "outputId": "d5006624-2e37-4426-8d8b-94c890d9c265"
      },
      "source": [
        "%set_env CUDA_VISIBLE_DEVICES=0\n",
        "import torch\n",
        "import torch.nn as nn\n",
        "import torch.nn.functional as F\n",
        "import tqdm\n",
        "import gpytorch\n",
        "from gpytorch.means import ConstantMean, LinearMean\n",
        "from gpytorch.kernels import RBFKernel, ScaleKernel, MaternKernel\n",
        "from gpytorch.variational import VariationalStrategy, CholeskyVariationalDistribution\n",
        "from gpytorch.distributions import MultivariateNormal\n",
        "from gpytorch.models import ApproximateGP, GP\n",
        "from gpytorch.mlls import VariationalELBO, AddedLossTerm\n",
        "from gpytorch.likelihoods import GaussianLikelihood\n",
        "from gpytorch.models.deep_gps import DeepGPLayer, DeepGP\n",
        "from gpytorch.mlls import DeepApproximateMLL\n",
        "\n",
        "import datatable as dt\n",
        "import numpy as np\n",
        "import pandas as pd\n",
        "\n",
        "import random"
      ],
      "execution_count": null,
      "outputs": [
        {
          "output_type": "stream",
          "text": [
            "env: CUDA_VISIBLE_DEVICES=0\n"
          ],
          "name": "stdout"
        }
      ]
    },
    {
      "cell_type": "code",
      "metadata": {
        "execution": {
          "iopub.execute_input": "2021-02-22T23:15:57.518714Z",
          "iopub.status.busy": "2021-02-22T23:15:57.516857Z",
          "iopub.status.idle": "2021-02-22T23:15:57.519522Z",
          "shell.execute_reply": "2021-02-22T23:15:57.520015Z"
        },
        "id": "Bj8HQ46AMpas",
        "papermill": {
          "duration": 0.022614,
          "end_time": "2021-02-22T23:15:57.520192",
          "exception": false,
          "start_time": "2021-02-22T23:15:57.497578",
          "status": "completed"
        },
        "tags": []
      },
      "source": [
        "smoke_test = False\n",
        "TRAINING = False"
      ],
      "execution_count": null,
      "outputs": []
    },
    {
      "cell_type": "code",
      "metadata": {
        "colab": {
          "base_uri": "https://localhost:8080/"
        },
        "id": "SEZah7fb2igU",
        "outputId": "a7e9ab92-85be-4996-a61d-0d5430811c84"
      },
      "source": [
        "from google.colab import drive\n",
        "drive.mount('/content/drive')"
      ],
      "execution_count": null,
      "outputs": [
        {
          "output_type": "stream",
          "text": [
            "Mounted at /content/drive\n"
          ],
          "name": "stdout"
        }
      ]
    },
    {
      "cell_type": "code",
      "metadata": {
        "execution": {
          "iopub.execute_input": "2021-02-22T23:15:57.556293Z",
          "iopub.status.busy": "2021-02-22T23:15:57.555372Z",
          "iopub.status.idle": "2021-02-22T23:17:08.018885Z",
          "shell.execute_reply": "2021-02-22T23:17:08.018257Z"
        },
        "id": "_YwEV6ZgMpas",
        "papermill": {
          "duration": 70.484774,
          "end_time": "2021-02-22T23:17:08.019047",
          "exception": false,
          "start_time": "2021-02-22T23:15:57.534273",
          "status": "completed"
        },
        "tags": []
      },
      "source": [
        "data = pd.read_csv('/content/drive/MyDrive/jane-street-market-prediction/train.csv')\n",
        "data.fillna(data.mean(), inplace=True)\n",
        "if TRAINING:\n",
        "    if smoke_test:\n",
        "        train = data.query('date > 85 & date <= 90')\n",
        "    else:\n",
        "        train = data.query('date > 85 & date < 450')\n",
        "    train_x = torch.tensor(train[features].to_numpy()).type(torch.float32)\n",
        "    train_y = torch.tensor(train[resp_cols].to_numpy()).type(torch.float32)\n",
        "    if torch.cuda.is_available():\n",
        "        train_x, train_y = train_x.cuda(), train_y.cuda()\n",
        "    \n",
        "    f_mean = np.mean(train[features[1:]].values, axis=0)\n",
        "\n",
        "features = [c for c in data.columns if 'feature' in c]\n",
        "resp_cols = ['resp_1', 'resp_2', 'resp_3', 'resp_4', 'resp']"
      ],
      "execution_count": null,
      "outputs": []
    },
    {
      "cell_type": "code",
      "metadata": {
        "execution": {
          "iopub.execute_input": "2021-02-22T23:17:18.061223Z",
          "iopub.status.busy": "2021-02-22T23:17:18.060235Z",
          "iopub.status.idle": "2021-02-22T23:17:18.064209Z",
          "shell.execute_reply": "2021-02-22T23:17:18.064826Z"
        },
        "id": "HY9IILoTmzoX",
        "papermill": {
          "duration": 0.028073,
          "end_time": "2021-02-22T23:17:18.065012",
          "exception": false,
          "start_time": "2021-02-22T23:17:18.036939",
          "status": "completed"
        },
        "tags": []
      },
      "source": [
        "from torch.utils.data import TensorDataset, DataLoader\n",
        "if TRAINING:\n",
        "    train_dataset = TensorDataset(train_x, train_y)\n",
        "    train_loader = DataLoader(train_dataset, batch_size=256, shuffle=True)"
      ],
      "execution_count": null,
      "outputs": []
    },
    {
      "cell_type": "markdown",
      "metadata": {
        "id": "ZCHRjFxm0D_E",
        "papermill": {
          "duration": 0.0153,
          "end_time": "2021-02-22T23:17:18.095965",
          "exception": false,
          "start_time": "2021-02-22T23:17:18.080665",
          "status": "completed"
        },
        "tags": []
      },
      "source": [
        "### Autoencoder ###"
      ]
    },
    {
      "cell_type": "code",
      "metadata": {
        "execution": {
          "iopub.execute_input": "2021-02-22T23:17:18.134128Z",
          "iopub.status.busy": "2021-02-22T23:17:18.133306Z",
          "iopub.status.idle": "2021-02-22T23:17:18.137619Z",
          "shell.execute_reply": "2021-02-22T23:17:18.137002Z"
        },
        "id": "2QLjkHgTiRrF",
        "papermill": {
          "duration": 0.026242,
          "end_time": "2021-02-22T23:17:18.137767",
          "exception": false,
          "start_time": "2021-02-22T23:17:18.111525",
          "status": "completed"
        },
        "tags": []
      },
      "source": [
        "class GaussianNoise(nn.Module):\n",
        "    def __init__(self, stddev):\n",
        "        super().__init__()\n",
        "        self.stddev = stddev\n",
        "\n",
        "    def forward(self, din):\n",
        "        if self.training:\n",
        "            return din + torch.autograd.Variable(torch.randn(din.size()).cuda() * self.stddev)\n",
        "        return din "
      ],
      "execution_count": null,
      "outputs": []
    },
    {
      "cell_type": "code",
      "metadata": {
        "execution": {
          "iopub.execute_input": "2021-02-22T23:17:18.186830Z",
          "iopub.status.busy": "2021-02-22T23:17:18.184348Z",
          "iopub.status.idle": "2021-02-22T23:17:18.210006Z",
          "shell.execute_reply": "2021-02-22T23:17:18.210613Z"
        },
        "id": "MblAEyhf3ovW",
        "papermill": {
          "duration": 0.056869,
          "end_time": "2021-02-22T23:17:18.210904",
          "exception": false,
          "start_time": "2021-02-22T23:17:18.154035",
          "status": "completed"
        },
        "tags": [],
        "colab": {
          "base_uri": "https://localhost:8080/"
        },
        "outputId": "806b83d9-8cbf-4e22-a5f2-2e7aa0cc0ea1"
      },
      "source": [
        "class AutoEncoder(nn.Module):\n",
        "    def __init__(self,input_dim,output_dim,stddev=0.05):\n",
        "        super(AutoEncoder, self).__init__()\n",
        "        self.gaussian_noise = GaussianNoise(stddev=stddev)\n",
        "        self.batch_norm1 = nn.BatchNorm1d(input_dim)\n",
        "        self.batch_norm2 = nn.BatchNorm1d(32)\n",
        "        self.fc1 = nn.Linear(input_dim, 64)\n",
        "        self.fc2 = nn.Linear(64,input_dim)\n",
        "        self.fc3 = nn.Linear(input_dim, 32)\n",
        "        self.fc4 = nn.Linear(32, output_dim)\n",
        "\n",
        "    def forward(self, input):\n",
        "        encoded = self.batch_norm1(input)\n",
        "        encoded = self.gaussian_noise(encoded)\n",
        "        encoded = F.relu(self.fc1(encoded))\n",
        "        \n",
        "        decoded = F.dropout(encoded, p=0.2)\n",
        "        decoded = self.fc2(decoded)\n",
        "\n",
        "        x = F.relu(self.fc3(decoded))\n",
        "        x = self.batch_norm2(x)\n",
        "        x = F.dropout(x, p=0.2)\n",
        "        x = torch.sigmoid(self.fc4(x))\n",
        "        return decoded, x\n",
        "\n",
        "ae = AutoEncoder(len(features), len(resp_cols), stddev=0.1)\n",
        "\n",
        "if torch.cuda.is_available():\n",
        "    ae = ae.cuda()\n",
        "print(ae)"
      ],
      "execution_count": null,
      "outputs": [
        {
          "output_type": "stream",
          "text": [
            "AutoEncoder(\n",
            "  (gaussian_noise): GaussianNoise()\n",
            "  (batch_norm1): BatchNorm1d(130, eps=1e-05, momentum=0.1, affine=True, track_running_stats=True)\n",
            "  (batch_norm2): BatchNorm1d(32, eps=1e-05, momentum=0.1, affine=True, track_running_stats=True)\n",
            "  (fc1): Linear(in_features=130, out_features=64, bias=True)\n",
            "  (fc2): Linear(in_features=64, out_features=130, bias=True)\n",
            "  (fc3): Linear(in_features=130, out_features=32, bias=True)\n",
            "  (fc4): Linear(in_features=32, out_features=5, bias=True)\n",
            ")\n"
          ],
          "name": "stdout"
        }
      ]
    },
    {
      "cell_type": "code",
      "metadata": {
        "execution": {
          "iopub.execute_input": "2021-02-22T23:17:18.255800Z",
          "iopub.status.busy": "2021-02-22T23:17:18.255055Z",
          "iopub.status.idle": "2021-02-22T23:17:18.288827Z",
          "shell.execute_reply": "2021-02-22T23:17:18.288124Z"
        },
        "id": "eSAv_nj4Xgc8",
        "papermill": {
          "duration": 0.060973,
          "end_time": "2021-02-22T23:17:18.288980",
          "exception": false,
          "start_time": "2021-02-22T23:17:18.228007",
          "status": "completed"
        },
        "tags": []
      },
      "source": [
        "if TRAINING:\n",
        "    ae.train()\n",
        "\n",
        "    num_epochs = 100 \n",
        "\n",
        "    optimizer = torch.optim.Adam([{'params': ae.parameters()}], lr=1e-3)\n",
        "\n",
        "    epochs_iter = tqdm.notebook.tqdm(range(num_epochs), desc=\"Epoch\")\n",
        "    for i in epochs_iter:\n",
        "        # Within each iteration, we will go over each minibatch of data\n",
        "        minibatch_iter = tqdm.notebook.tqdm(train_loader, desc=\"Minibatch\", leave=False)\n",
        "        for x_batch, y_batch in minibatch_iter:\n",
        "            optimizer.zero_grad()\n",
        "            decoded, x = ae(x_batch)\n",
        "            new_y_batch = (y_batch > 0).type(torch.float32) \n",
        "            loss = nn.MSELoss()(decoded, x_batch) + nn.BCEWithLogitsLoss()(x, new_y_batch)\n",
        "            loss.backward()\n",
        "            optimizer.step()\n",
        "            minibatch_iter.set_postfix(loss=loss.item())                    \n",
        "        torch.cuda.empty_cache()\n",
        "        \n",
        "    torch.save(ae.state_dict(), '/content/drive/MyDrive/jane-street-market-prediction/ae.pth')\n",
        "    \n",
        "else:\n",
        "    state_dict = torch.load('/content/drive/MyDrive/jane-street-market-prediction/ae.pth')\n",
        "    ae.load_state_dict(state_dict)"
      ],
      "execution_count": null,
      "outputs": []
    },
    {
      "cell_type": "code",
      "metadata": {
        "id": "fsAMzLK7Qy04"
      },
      "source": [
        "#ae.state_dict()['batch_norm1.weight']"
      ],
      "execution_count": null,
      "outputs": []
    },
    {
      "cell_type": "markdown",
      "metadata": {
        "id": "dlVsilna2eiD",
        "papermill": {
          "duration": 0.016151,
          "end_time": "2021-02-22T23:17:18.322351",
          "exception": false,
          "start_time": "2021-02-22T23:17:18.306200",
          "status": "completed"
        },
        "tags": []
      },
      "source": [
        "### DeepGP ###"
      ]
    },
    {
      "cell_type": "code",
      "metadata": {
        "execution": {
          "iopub.execute_input": "2021-02-22T23:17:18.371864Z",
          "iopub.status.busy": "2021-02-22T23:17:18.369816Z",
          "iopub.status.idle": "2021-02-22T23:17:18.372673Z",
          "shell.execute_reply": "2021-02-22T23:17:18.373208Z"
        },
        "id": "sSsMhKxSMpau",
        "papermill": {
          "duration": 0.034354,
          "end_time": "2021-02-22T23:17:18.373389",
          "exception": false,
          "start_time": "2021-02-22T23:17:18.339035",
          "status": "completed"
        },
        "tags": []
      },
      "source": [
        "num_inducing = 128\n",
        "num_samples = 50\n",
        "\n",
        "class DeepGPHiddenLayer(DeepGPLayer):\n",
        "    def __init__(self, input_dims, output_dims, num_inducing=num_inducing, mean_type='constant'):\n",
        "        if output_dims is None:\n",
        "            inducing_points = torch.randn(num_inducing, input_dims)\n",
        "            batch_shape = torch.Size([])\n",
        "        else:\n",
        "            inducing_points = torch.randn(output_dims, num_inducing, input_dims)\n",
        "            batch_shape = torch.Size([output_dims])\n",
        "\n",
        "        variational_distribution = CholeskyVariationalDistribution(\n",
        "            num_inducing_points=num_inducing,\n",
        "            batch_shape=batch_shape\n",
        "        )\n",
        "\n",
        "        variational_strategy = VariationalStrategy(\n",
        "            self,\n",
        "            inducing_points,\n",
        "            variational_distribution,\n",
        "            learn_inducing_locations=True\n",
        "        )\n",
        "\n",
        "        super(DeepGPHiddenLayer, self).__init__(variational_strategy, input_dims, output_dims)\n",
        "\n",
        "        if mean_type == 'constant':\n",
        "            self.mean_module = ConstantMean(batch_shape=batch_shape)\n",
        "        else:\n",
        "            self.mean_module = LinearMean(input_dims)\n",
        "        self.covar_module = ScaleKernel(\n",
        "            RBFKernel(batch_shape=batch_shape, ard_num_dims=input_dims),\n",
        "            batch_shape=batch_shape, ard_num_dims=None\n",
        "        )\n",
        "\n",
        "    def forward(self, x):\n",
        "        mean_x = self.mean_module(x)\n",
        "        covar_x = self.covar_module(x)\n",
        "        return MultivariateNormal(mean_x, covar_x)\n",
        "\n",
        "    def __call__(self, x, *other_inputs, **kwargs):\n",
        "        \"\"\"\n",
        "        Overriding __call__ isn't strictly necessary, but it lets us add concatenation based skip connections\n",
        "        easily. For example, hidden_layer2(hidden_layer1_outputs, inputs) will pass the concatenation of the first\n",
        "        hidden layer's outputs and the input data to hidden_layer2.\n",
        "        \"\"\"\n",
        "        if len(other_inputs):\n",
        "            if isinstance(x, gpytorch.distributions.MultitaskMultivariateNormal):\n",
        "                x = x.rsample()\n",
        "\n",
        "            processed_inputs = [\n",
        "                inp.unsqueeze(0).expand(gpytorch.settings.num_likelihood_samples(num_samples).value(), *inp.shape)\n",
        "                for inp in other_inputs\n",
        "            ]\n",
        "\n",
        "            x = torch.cat([x] + processed_inputs, dim=-1)\n",
        "\n",
        "        return super().__call__(x, are_samples=bool(len(other_inputs)))"
      ],
      "execution_count": null,
      "outputs": []
    },
    {
      "cell_type": "code",
      "metadata": {
        "execution": {
          "iopub.execute_input": "2021-02-22T23:17:18.413914Z",
          "iopub.status.busy": "2021-02-22T23:17:18.413059Z",
          "iopub.status.idle": "2021-02-22T23:17:18.417315Z",
          "shell.execute_reply": "2021-02-22T23:17:18.416740Z"
        },
        "id": "k4pcUHnJMpav",
        "papermill": {
          "duration": 0.027985,
          "end_time": "2021-02-22T23:17:18.417500",
          "exception": false,
          "start_time": "2021-02-22T23:17:18.389515",
          "status": "completed"
        },
        "tags": []
      },
      "source": [
        "# TWO hidden layers\n",
        "num_output_dims1 = 16\n",
        "num_output_dims2 = 8\n",
        "ae_output_shape = len(features) + len(resp_cols)\n",
        "\n",
        "class DeepGP(DeepGP):\n",
        "    def __init__(self, input_shape):\n",
        "        super().__init__()\n",
        "        hidden_layer1 = DeepGPHiddenLayer(\n",
        "            input_dims=input_shape,\n",
        "            output_dims=num_output_dims1,\n",
        "            mean_type='linear',\n",
        "        )\n",
        "        \n",
        "        hidden_layer2 = DeepGPHiddenLayer(\n",
        "            input_dims=hidden_layer1.output_dims,\n",
        "            output_dims=num_output_dims2,\n",
        "            mean_type='linear',\n",
        "        )\n",
        "        \n",
        "        last_layer = DeepGPHiddenLayer(\n",
        "            input_dims=hidden_layer2.output_dims,\n",
        "            output_dims=None,\n",
        "            mean_type='constant',\n",
        "        )\n",
        "         \n",
        "        self.feature_extractor = torch.nn.Sequential(\n",
        "            torch.nn.Linear(ae_output_shape, 65),\n",
        "            torch.nn.BatchNorm1d(65),\n",
        "            torch.nn.ReLU(),\n",
        "            torch.nn.Linear(65, 32),\n",
        "            torch.nn.BatchNorm1d(32),\n",
        "            torch.nn.ReLU(),\n",
        "        )\n",
        "\n",
        "        \n",
        "        self.hidden_layer1 = hidden_layer1\n",
        "        self.hidden_layer2 = hidden_layer2\n",
        "        self.last_layer = last_layer\n",
        "        self.likelihood = GaussianLikelihood()\n",
        "\n",
        "        \n",
        "    def forward(self, inputs):\n",
        "        reduced_inputs = self.feature_extractor(inputs)\n",
        "        hidden_rep1 = self.hidden_layer1(reduced_inputs)\n",
        "        hidden_rep2 = self.hidden_layer2(hidden_rep1)\n",
        "        output = self.last_layer(hidden_rep2)\n",
        "        return output"
      ],
      "execution_count": null,
      "outputs": []
    },
    {
      "cell_type": "code",
      "metadata": {
        "execution": {
          "iopub.execute_input": "2021-02-22T23:17:18.457439Z",
          "iopub.status.busy": "2021-02-22T23:17:18.456561Z",
          "iopub.status.idle": "2021-02-22T23:17:18.509745Z",
          "shell.execute_reply": "2021-02-22T23:17:18.508985Z"
        },
        "id": "o80LgQwbMpav",
        "papermill": {
          "duration": 0.076406,
          "end_time": "2021-02-22T23:17:18.509901",
          "exception": false,
          "start_time": "2021-02-22T23:17:18.433495",
          "status": "completed"
        },
        "tags": []
      },
      "source": [
        "model = DeepGP(32)\n",
        "if torch.cuda.is_available():\n",
        "    model = model.cuda()"
      ],
      "execution_count": null,
      "outputs": []
    },
    {
      "cell_type": "code",
      "metadata": {
        "execution": {
          "iopub.execute_input": "2021-02-22T23:17:18.556163Z",
          "iopub.status.busy": "2021-02-22T23:17:18.555484Z",
          "iopub.status.idle": "2021-02-22T23:17:18.885054Z",
          "shell.execute_reply": "2021-02-22T23:17:18.886464Z"
        },
        "id": "phC59OVnMpaw",
        "papermill": {
          "duration": 0.360281,
          "end_time": "2021-02-22T23:17:18.887372",
          "exception": false,
          "start_time": "2021-02-22T23:17:18.527091",
          "status": "completed"
        },
        "tags": []
      },
      "source": [
        "#TRAINING = True\n",
        "\n",
        "if TRAINING:\n",
        "    # this is for running the notebook in our testing framework\n",
        "    num_epochs = 30 \n",
        "\n",
        "    model.train()\n",
        "    ae.eval()\n",
        "\n",
        "    optimizer = torch.optim.Adam([{'params': model.parameters()}], lr=1e-3)\n",
        "\n",
        "    mll = DeepApproximateMLL(VariationalELBO(model.likelihood, model, train_x.shape[-2]))\n",
        "\n",
        "    epochs_iter = tqdm.notebook.tqdm(range(num_epochs), desc=\"Epoch\")\n",
        "    for i in epochs_iter:\n",
        "        # Within each iteration, we will go over each minibatch of data\n",
        "        minibatch_iter = tqdm.notebook.tqdm(train_loader, desc=\"Minibatch\", leave=False)\n",
        "        for x_batch, y_batch in minibatch_iter:\n",
        "            with gpytorch.settings.num_likelihood_samples(num_samples):\n",
        "                optimizer.zero_grad()\n",
        "                decoded, x = ae(x_batch)\n",
        "                new_x_batch = torch.cat((decoded, x), dim=-1).cuda()\n",
        "                new_y_batch = y_batch[:,-1]\n",
        "                output = model(new_x_batch)\n",
        "                loss = -mll(output, new_y_batch)\n",
        "                loss.backward()\n",
        "                optimizer.step()\n",
        "                minibatch_iter.set_postfix(loss=loss.item())        \n",
        "\n",
        "        torch.cuda.empty_cache()\n",
        "\n",
        "    torch.save(model.state_dict(), '/content/drive/MyDrive/jane-street-market-prediction/model.pth')\n",
        "else:\n",
        "    state_dict = torch.load('/content/drive/MyDrive/jane-street-market-prediction/model.pth')\n",
        "    model.load_state_dict(state_dict)\n"
      ],
      "execution_count": null,
      "outputs": []
    },
    {
      "cell_type": "code",
      "metadata": {
        "id": "rnyElXRFYR5O"
      },
      "source": [
        "#model.state_dict()"
      ],
      "execution_count": null,
      "outputs": []
    },
    {
      "cell_type": "code",
      "metadata": {
        "id": "5sGJS7a0Roc1"
      },
      "source": [
        "if smoke_test:\r\n",
        "    test = data.query('date == 90')\r\n",
        "else:\r\n",
        "    test = data.query('date >= 450')\r\n"
      ],
      "execution_count": null,
      "outputs": []
    },
    {
      "cell_type": "code",
      "metadata": {
        "id": "ct5Q6gTMYVtr"
      },
      "source": [
        "test_x = torch.tensor(test[features].to_numpy()).type(torch.float32)\r\n",
        "test_y = torch.tensor(test[resp_cols].to_numpy()).type(torch.float32)\r\n",
        "if torch.cuda.is_available:\r\n",
        "    test_x, test_y = test_x.cuda(), test_y.cuda()"
      ],
      "execution_count": null,
      "outputs": []
    },
    {
      "cell_type": "code",
      "metadata": {
        "id": "KEuRwCyMZan1"
      },
      "source": [
        "test_dataset = TensorDataset(test_x, test_y)\r\n",
        "test_loader = DataLoader(test_dataset, batch_size = 128)"
      ],
      "execution_count": null,
      "outputs": []
    },
    {
      "cell_type": "code",
      "metadata": {
        "id": "5IWwo1COX8cb"
      },
      "source": [
        "if TRAINING:\r\n",
        "    del train, train_x, train_y"
      ],
      "execution_count": null,
      "outputs": []
    },
    {
      "cell_type": "code",
      "metadata": {
        "colab": {
          "base_uri": "https://localhost:8080/",
          "height": 67,
          "referenced_widgets": [
            "b5eb49ed328943d7ba0734f6176bd82a",
            "3be79ec708524abc89c3e349b4c1a4a1",
            "e4e76854433b425d8283bc92e0663272",
            "b71c7f1cd4364fc3917aa15bd977a34b",
            "7baf77f2d3c1475685ade9d4416669a4",
            "7e6860b445914a09979369c5c6efdf51",
            "618d12fdb2d74318bea8d81c2ab682e1",
            "dd3c23b64b144f49a473a0ca0752fc04"
          ]
        },
        "id": "bfRoNH6HcafZ",
        "outputId": "603b0bcf-7294-4ab9-bdaa-4b679a9e157e"
      },
      "source": [
        "ae.eval()\r\n",
        "model.eval()\r\n",
        "\r\n",
        "new_test_x=torch.Tensor().cuda()\r\n",
        "for x_batch, y_batch in tqdm.notebook.tqdm(test_loader):\r\n",
        "    with torch.no_grad():\r\n",
        "        decoded, x = ae(x_batch)\r\n",
        "        res = torch.cat((decoded, x), dim=-1)\r\n",
        "        new_test_x = torch.cat((new_test_x, res), dim=0)\r\n",
        "        torch.cuda.empty_cache()\r\n",
        "\r\n"
      ],
      "execution_count": null,
      "outputs": [
        {
          "output_type": "display_data",
          "data": {
            "application/vnd.jupyter.widget-view+json": {
              "model_id": "b5eb49ed328943d7ba0734f6176bd82a",
              "version_minor": 0,
              "version_major": 2
            },
            "text/plain": [
              "HBox(children=(FloatProgress(value=0.0, max=2175.0), HTML(value='')))"
            ]
          },
          "metadata": {
            "tags": []
          }
        },
        {
          "output_type": "stream",
          "text": [
            "\n"
          ],
          "name": "stdout"
        }
      ]
    },
    {
      "cell_type": "code",
      "metadata": {
        "colab": {
          "base_uri": "https://localhost:8080/"
        },
        "id": "-QD2k0ZXfsLb",
        "outputId": "8b1930d1-48a1-4646-8c6f-575d238479bd"
      },
      "source": [
        "new_test_x.shape"
      ],
      "execution_count": null,
      "outputs": [
        {
          "output_type": "execute_result",
          "data": {
            "text/plain": [
              "torch.Size([278315, 135])"
            ]
          },
          "metadata": {
            "tags": []
          },
          "execution_count": 42
        }
      ]
    },
    {
      "cell_type": "code",
      "metadata": {
        "id": "aQ7A_1Gng8rt"
      },
      "source": [
        "new_test_x_loader = DataLoader(new_test_x, batch_size=128)"
      ],
      "execution_count": null,
      "outputs": []
    },
    {
      "cell_type": "code",
      "metadata": {
        "id": "-gQXIgpKZU20"
      },
      "source": [
        "mus = []\r\n",
        "variances = []\r\n",
        "for new_x_batch in tqdm.notebook.tqdm(new_test_x_loader):\r\n",
        "    with torch.no_grad(), gpytorch.settings.num_likelihood_samples(num_samples):\r\n",
        "        pred = model.likelihood(model(new_x_batch))\r\n",
        "        mus.append(pred.mean)\r\n",
        "        variances.append(pred.variance)\r\n",
        "        torch.cuda.empty_cache()\r\n",
        "\r\n",
        "pred_mus, pred_vars = torch.cat(mus, dim=-1), torch.cat(variances, dim=-1)\r\n",
        "pred_mus = pred_mus.mean(0).cpu().detach().numpy()\r\n",
        "pred_vars = pred_vars.mean(0).cpu().detach().numpy() \r\n",
        "\r\n",
        "resp_sampling = np.random.normal(pred_mus, np.sqrt(pred_vars))\r\n",
        "action = np.where(resp_sampling > 0., 1, 0).astype(int)\r\n",
        "\r\n",
        "new_test_y = np.where(test_y.cpu().detach().numpy() > 0., 1, 0).astype(int)\r\n"
      ],
      "execution_count": null,
      "outputs": []
    },
    {
      "cell_type": "code",
      "metadata": {
        "colab": {
          "base_uri": "https://localhost:8080/"
        },
        "id": "06kvnSUWi0U6",
        "outputId": "7ee5b094-696b-4d2d-96ca-6ce12af4f854"
      },
      "source": [
        "errors = np.sum(action == new_test_y[:,-1]) / len(new_test_y)\r\n",
        "\r\n",
        "errors\r\n"
      ],
      "execution_count": null,
      "outputs": [
        {
          "output_type": "execute_result",
          "data": {
            "text/plain": [
              "0.501158758960171"
            ]
          },
          "metadata": {
            "tags": []
          },
          "execution_count": 62
        }
      ]
    },
    {
      "cell_type": "code",
      "metadata": {
        "id": "s0VW2qHwt5yQ"
      },
      "source": [
        "score = np.expand_dims(test.weight, axis=-1) * np.expand_dims(test_y[:,-1].cpu().numpy(), axis=-1) * np.expand_dims(action, axis=-1)"
      ],
      "execution_count": null,
      "outputs": []
    },
    {
      "cell_type": "code",
      "metadata": {
        "id": "KCDWYSDQk6Np"
      },
      "source": [
        "df_for_eval = pd.DataFrame(\r\n",
        "    np.concatenate( (np.expand_dims(test.date, axis = -1), score), axis=-1 ), \r\n",
        "    columns=[\"date\",'score']\r\n",
        "    )"
      ],
      "execution_count": null,
      "outputs": []
    },
    {
      "cell_type": "code",
      "metadata": {
        "id": "5GfrrGO6qayk"
      },
      "source": [
        "p = df_for_eval.groupby(['date']).sum()"
      ],
      "execution_count": null,
      "outputs": []
    },
    {
      "cell_type": "code",
      "metadata": {
        "colab": {
          "base_uri": "https://localhost:8080/"
        },
        "id": "CFDwTIU5wIEh",
        "outputId": "6ded9648-7e3a-4c74-d151-889d599a63db"
      },
      "source": [
        "t = (np.sum(p.score) / np.sqrt(np.sum(np.square(p.score)))) * np.sqrt(250 / len(p))\r\n",
        "t"
      ],
      "execution_count": null,
      "outputs": [
        {
          "output_type": "execute_result",
          "data": {
            "text/plain": [
              "1.0404251447746593"
            ]
          },
          "metadata": {
            "tags": []
          },
          "execution_count": 144
        }
      ]
    },
    {
      "cell_type": "code",
      "metadata": {
        "colab": {
          "base_uri": "https://localhost:8080/"
        },
        "id": "p3SApRM1xFGA",
        "outputId": "ca066421-0aec-43af-8939-483e044f9b87"
      },
      "source": [
        "# Utility\r\n",
        "np.min( [np.max([t,0]), 6] ) * np.sum(p.score)"
      ],
      "execution_count": null,
      "outputs": [
        {
          "output_type": "execute_result",
          "data": {
            "text/plain": [
              "37.6457544121561"
            ]
          },
          "metadata": {
            "tags": []
          },
          "execution_count": 145
        }
      ]
    },
    {
      "cell_type": "code",
      "metadata": {
        "colab": {
          "base_uri": "https://localhost:8080/"
        },
        "id": "d4CQF_UXx8V9",
        "outputId": "76058a8c-57aa-4bc5-f914-1bac5e3464f2"
      },
      "source": [
        "# Possible Maximum Utility\r\n",
        "resp = np.expand_dims(test_y[:,-1].cpu().numpy(), axis=-1)\r\n",
        "best_score = np.expand_dims(test.weight, axis=-1) * resp * (resp>0).astype(int)\r\n",
        "\r\n",
        "df_best = pd.DataFrame(\r\n",
        "    np.concatenate( (np.expand_dims(test.date, axis = -1), best_score), axis=-1 ), \r\n",
        "    columns=[\"date\",'best_score']\r\n",
        "    )\r\n",
        "p_best = df_best.groupby(['date']).sum()\r\n",
        "t_best = (np.sum(p_best.best_score) / np.sqrt(np.sum(np.square(p_best.best_score)))) * np.sqrt(250 / len(p_best))\r\n",
        "\r\n",
        "np.min( [np.max([t_best,0]), 6] ) * np.sum(p_best.best_score)"
      ],
      "execution_count": null,
      "outputs": [
        {
          "output_type": "execute_result",
          "data": {
            "text/plain": [
              "26114.80493933624"
            ]
          },
          "metadata": {
            "tags": []
          },
          "execution_count": 146
        }
      ]
    },
    {
      "cell_type": "code",
      "metadata": {
        "execution": {
          "iopub.execute_input": "2021-02-22T23:17:18.989550Z",
          "iopub.status.busy": "2021-02-22T23:17:18.988737Z",
          "iopub.status.idle": "2021-02-22T23:27:29.267719Z",
          "shell.execute_reply": "2021-02-22T23:27:29.267197Z"
        },
        "papermill": {
          "duration": 610.310951,
          "end_time": "2021-02-22T23:27:29.267883",
          "exception": false,
          "start_time": "2021-02-22T23:17:18.956932",
          "status": "completed"
        },
        "tags": [],
        "id": "anO_X5nZ2CPY"
      },
      "source": [
        "#import janestreet\n",
        "#from scipy.stats import norm\n",
        "#\n",
        "#env = janestreet.make_env() # initialize the environment\n",
        "#iter_test = env.iter_test() # an iterator which loops over the test set\n",
        "#\n",
        "#model.eval()\n",
        "#ae.eval()\n",
        "#\n",
        "#for (test_df, pred_df) in tqdm.notebook.tqdm(iter_test):\n",
        "#    if test_df['weight'].item() > 0:\n",
        "#        x_tt = test_df.loc[:, features].values\n",
        "#        if np.isnan(x_tt[:, 1:].sum()):\n",
        "#            x_tt[:, 1:] = np.nan_to_num(x_tt[:, 1:]) + np.isnan(x_tt[:, 1:]) * f_mean\n",
        "#        x_tt = torch.tensor(x_tt).type(torch.float32).cuda()\n",
        "#        \n",
        "#        mus = []\n",
        "#        variances = []\n",
        "#        with torch.no_grad() and gpytorch.settings.num_likelihood_samples(num_samples):\n",
        "#            optimizer.zero_grad()\n",
        "#            decoded, x = ae(x_tt)\n",
        "#            new_test_df = torch.cat((decoded, x), dim=-1).cuda()\n",
        "#            preds = model.likelihood(model(new_test_df))\n",
        "#            mus.append(preds.mean)\n",
        "#            variances.append(preds.variance)\n",
        "#        pred_mus, pred_vars = torch.cat(mus, dim=-1), torch.cat(variances, dim=-1)\n",
        "#        pred = norm.cdf(0, pred_mus.mean(0).cpu().detach().numpy(), pred_vars.mean(0).cpu().detach().numpy())\n",
        "#        pred_df.action = np.where(pred <= 0.20, 1, 0).astype(int)\n",
        "#    else:\n",
        "#        pred_df.action = 0\n",
        "#    \n",
        "#    env.predict(pred_df)"
      ],
      "execution_count": null,
      "outputs": []
    }
  ]
}